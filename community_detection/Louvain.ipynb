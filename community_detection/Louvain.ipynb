{
 "cells": [
  {
   "cell_type": "code",
   "execution_count": 1,
   "id": "f97ca260",
   "metadata": {},
   "outputs": [],
   "source": [
    "import community as community_louvain\n",
    "import networkx as nx\n",
    "import pickle\n",
    "import json\n",
    "from sklearn.metrics import normalized_mutual_info_score\n",
    "import matplotlib.pyplot as plt\n",
    "from matplotlib import colormaps\n",
    "import matplotlib.patches as mpatches\n",
    "import numpy as np\n",
    "from collections import defaultdict, Counter\n",
    "import pandas as pd"
   ]
  },
  {
   "cell_type": "code",
   "execution_count": 2,
   "id": "0373a84a",
   "metadata": {},
   "outputs": [],
   "source": [
    "with open('/root/social_computing_group/graph.pkl', 'rb') as f:\n",
    "    nx_graph = pickle.load(f)"
   ]
  },
  {
   "cell_type": "code",
   "execution_count": 3,
   "id": "53a6a516",
   "metadata": {},
   "outputs": [],
   "source": [
    "labels = [nx_graph.nodes[node]['label'] for node in nx_graph.nodes()]"
   ]
  },
  {
   "cell_type": "code",
   "execution_count": 4,
   "id": "4d5b5e6d",
   "metadata": {},
   "outputs": [],
   "source": [
    "best_nmi = -1\n",
    "best_partition = None\n",
    "\n",
    "# 运行10次取最优\n",
    "for _ in range(10):\n",
    "    current_partition = community_louvain.best_partition(nx_graph)\n",
    "    current_nmi = normalized_mutual_info_score(labels, list(current_partition.values()))\n",
    "    \n",
    "    if current_nmi > best_nmi:\n",
    "        best_nmi = current_nmi\n",
    "        best_partition = current_partition\n",
    "\n",
    "partition = best_partition\n",
    "partition = {int(k): int(v) for k, v in partition.items()}"
   ]
  },
  {
   "cell_type": "code",
   "execution_count": 5,
   "id": "d4d5f6f1",
   "metadata": {},
   "outputs": [
    {
     "name": "stdout",
     "output_type": "stream",
     "text": [
      "[Louvain] NMI Score: 0.6347\n"
     ]
    }
   ],
   "source": [
    "print(f\"[Louvain] NMI Score: {best_nmi:.4f}\")"
   ]
  },
  {
   "cell_type": "code",
   "execution_count": 6,
   "id": "1fc4980e",
   "metadata": {},
   "outputs": [],
   "source": [
    "with open('/root/social_computing_group/community_detection/louvain_communities.json', 'w') as f:\n",
    "    json.dump(partition, f)"
   ]
  },
  {
   "cell_type": "code",
   "execution_count": 7,
   "id": "461936f1",
   "metadata": {},
   "outputs": [],
   "source": [
    "def visualize_large_graph(nx_graph, partition, nmi, output_path):\n",
    "    \"\"\"大规模图可视化\"\"\"\n",
    "    # 1. 社区子图采样\n",
    "    community_sizes = {c: sum(1 for v in partition.values() if v == c) \n",
    "                      for c in set(partition.values())}\n",
    "    top_communities = sorted(community_sizes, key=lambda x: -community_sizes[x])[:5]\n",
    "    \n",
    "    # 2. 构建展示子图\n",
    "    sample_nodes = []\n",
    "    for comm in top_communities:\n",
    "        nodes_in_comm = [n for n in nx_graph.nodes() if partition[n] == comm][:100]\n",
    "        sample_nodes.extend(nodes_in_comm)\n",
    "    subgraph = nx_graph.subgraph(sample_nodes)\n",
    "    \n",
    "    # 3. 计算力导向布局\n",
    "    print(\"正在计算布局...\")\n",
    "    pos = nx.kamada_kawai_layout(subgraph)\n",
    "    \n",
    "    # 4. 可视化\n",
    "    plt.figure(figsize=(15, 10))\n",
    "    node_colors = [top_communities.index(partition[n]) for n in subgraph.nodes()]\n",
    "    nx.draw(subgraph, pos, node_color=node_colors, cmap='tab20', \n",
    "           node_size=30, width=0.1, with_labels=False)\n",
    "    \n",
    "    # 5. 添加统计信息\n",
    "    info_text = '\\n'.join([f\"Community {c}: {community_sizes[c]} nodes\" \n",
    "                          for i, c in enumerate(top_communities)])\n",
    "    plt.gcf().text(0.82, 0.15, info_text, fontsize=10, \n",
    "                  bbox=dict(facecolor='white', alpha=0.7))\n",
    "    \n",
    "    plt.text(0.5, 0.02, f\"NMI: {nmi:.4f}\", \n",
    "            ha='center', va='bottom', \n",
    "            transform=plt.gcf().transFigure,\n",
    "            fontsize=12,\n",
    "            bbox=dict(facecolor='white', alpha=0.8))\n",
    "    \n",
    "    plt.title(\"Visualization of Top5 community structure sampling\", fontsize=20)\n",
    "    plt.savefig(output_path, dpi=300, bbox_inches='tight')\n",
    "    plt.close()\n",
    "    print(f\"大规模图可视化结果已保存至 {output_path}\")"
   ]
  },
  {
   "cell_type": "code",
   "execution_count": 8,
   "id": "b70eb04f",
   "metadata": {},
   "outputs": [
    {
     "name": "stdout",
     "output_type": "stream",
     "text": [
      "正在计算布局...\n",
      "大规模图可视化结果已保存至 /root/social_computing_group/community_detection/louvain_visualization.png\n"
     ]
    }
   ],
   "source": [
    "output_path='/root/social_computing_group/community_detection/louvain_visualization.png'\n",
    "visualize_large_graph(nx_graph, partition, best_nmi, output_path)"
   ]
  },
  {
   "cell_type": "code",
   "execution_count": 9,
   "id": "d17d3faf",
   "metadata": {},
   "outputs": [],
   "source": [
    "def community_metrics(partition, true_labels):\n",
    "    \"\"\"\n",
    "    partition: 字典 {节点ID: 社区ID}\n",
    "    true_labels: 列表 [节点真实标签]\n",
    "    返回: DataFrame包含每个社区的指标\n",
    "    \"\"\"\n",
    "    # 构建社区-标签分布映射\n",
    "    comm_label_dist = {}\n",
    "    for node, comm_id in partition.items():\n",
    "        true_label = true_labels[node]\n",
    "        if comm_id not in comm_label_dist:\n",
    "            comm_label_dist[comm_id] = Counter()\n",
    "        comm_label_dist[comm_id][true_label] += 1\n",
    "    \n",
    "    # 计算指标\n",
    "    metrics = []\n",
    "    for comm_id, counter in comm_label_dist.items():\n",
    "        total = sum(counter.values())\n",
    "        max_count = max(counter.values())\n",
    "        probabilities = [c/total for c in counter.values()]\n",
    "        \n",
    "        # 纯度\n",
    "        purity = max_count / total\n",
    "        \n",
    "        # 熵\n",
    "        entropy = -sum(p * np.log(p) for p in probabilities if p > 0)\n",
    "        \n",
    "        # 存储结果\n",
    "        metrics.append({\n",
    "            \"Community ID\": comm_id,\n",
    "            \"Nodes\": total,\n",
    "            \"Label\": counter.most_common(1)[0][0],\n",
    "            \"Purity\": purity,\n",
    "            \"Entropy\": entropy,\n",
    "        })\n",
    "    \n",
    "    return pd.DataFrame(metrics)"
   ]
  },
  {
   "cell_type": "code",
   "execution_count": 10,
   "id": "69b62907",
   "metadata": {},
   "outputs": [],
   "source": [
    "# 计算指标\n",
    "metrics_df = community_metrics(partition, labels)\n",
    "\n",
    "# 排序并保存表格\n",
    "metrics_df.sort_values('Community ID', inplace=True)\n",
    "metrics_df.to_csv('/root/social_computing_group/community_detection/community_metrics_origin.csv', index=False)"
   ]
  },
  {
   "cell_type": "markdown",
   "id": "af7cc777",
   "metadata": {},
   "source": [
    "### 尝试改进"
   ]
  },
  {
   "cell_type": "code",
   "execution_count": 13,
   "id": "60666bfb",
   "metadata": {},
   "outputs": [],
   "source": [
    "def optimized_merge(partition, nx_graph, min_size=100):\n",
    "    \"\"\"高性能社区合并函数\"\"\"\n",
    "    # 构建社区节点映射\n",
    "    comm_nodes = defaultdict(list)\n",
    "    for node, comm in partition.items():\n",
    "        comm_nodes[comm].append(node)\n",
    "    \n",
    "    # 识别小社区\n",
    "    small_comms = {c for c, nodes in comm_nodes.items() if len(nodes) < min_size}\n",
    "    if not small_comms:\n",
    "        return partition\n",
    "    \n",
    "    # 构建社区邻接图（使用边权重统计）\n",
    "    comm_graph = nx.Graph()\n",
    "    edge_weights = defaultdict(int)\n",
    "    for u, v in nx_graph.edges():\n",
    "        c1, c2 = partition[u], partition[v]\n",
    "        if c1 != c2:\n",
    "            edge_weights[(min(c1,c2), max(c1,c2))] += 1\n",
    "    \n",
    "    # 添加带权重的边\n",
    "    for (c1, c2), w in edge_weights.items():\n",
    "        comm_graph.add_edge(c1, c2, weight=w)\n",
    "    \n",
    "    # 批量合并处理\n",
    "    merged = partition.copy()\n",
    "    for sc in small_comms:\n",
    "        # 寻找最佳目标社区\n",
    "        if sc not in comm_graph:\n",
    "            target = min(comm_nodes.keys(), key=lambda x: len(comm_nodes[x]))\n",
    "        else:\n",
    "            neighbors = list(comm_graph.neighbors(sc))\n",
    "            if neighbors:\n",
    "                target = max(neighbors, key=lambda x: comm_graph[sc][x]['weight'])\n",
    "            else:\n",
    "                target = min(comm_nodes.keys(), key=lambda x: len(comm_nodes[x]))\n",
    "        \n",
    "        # 批量更新节点\n",
    "        for node in comm_nodes[sc]:\n",
    "            merged[node] = target\n",
    "    \n",
    "    return merged"
   ]
  },
  {
   "cell_type": "code",
   "execution_count": 14,
   "id": "369363d2",
   "metadata": {},
   "outputs": [],
   "source": [
    "def multi_resolution_louvain(nx_graph, resolutions=[0.7, 0.8, 0.9, 1.0, 1.1, 1.2], n_runs=5):\n",
    "    \"\"\"多分辨率集成优化\"\"\"\n",
    "    best_nmi = -1\n",
    "    best_part = None\n",
    "    labels = [nx_graph.nodes[n]['label'] for n in nx_graph.nodes()]\n",
    "    \n",
    "    for res in resolutions:\n",
    "        print(f\"Processing resolution {res}...\")\n",
    "        for _ in range(n_runs):\n",
    "            part = community_louvain.best_partition(nx_graph, resolution=res)\n",
    "            current_nmi = normalized_mutual_info_score(labels, list(part.values()))\n",
    "            \n",
    "            if current_nmi > best_nmi:\n",
    "                best_nmi = current_nmi\n",
    "                best_part = part\n",
    "    \n",
    "    return best_part"
   ]
  },
  {
   "cell_type": "code",
   "execution_count": 15,
   "id": "9f562edb",
   "metadata": {},
   "outputs": [
    {
     "name": "stdout",
     "output_type": "stream",
     "text": [
      "Processing resolution 0.7...\n",
      "Processing resolution 0.8...\n",
      "Processing resolution 0.9...\n",
      "Processing resolution 1.0...\n",
      "Processing resolution 1.1...\n",
      "Processing resolution 1.2...\n"
     ]
    }
   ],
   "source": [
    "base_partition = multi_resolution_louvain(nx_graph)\n",
    "final_partition = optimized_merge(base_partition, nx_graph)\n",
    "final_partition = {int(k): int(v) for k, v in final_partition.items()}"
   ]
  },
  {
   "cell_type": "code",
   "execution_count": 16,
   "id": "f9a6170f",
   "metadata": {},
   "outputs": [
    {
     "name": "stdout",
     "output_type": "stream",
     "text": [
      "[Enhanced Louvain] NMI Score: 0.6656\n"
     ]
    }
   ],
   "source": [
    "nmi = normalized_mutual_info_score(labels, list(final_partition.values()))\n",
    "print(f\"[Enhanced Louvain] NMI Score: {nmi:.4f}\")"
   ]
  },
  {
   "cell_type": "code",
   "execution_count": 17,
   "id": "a9d32b87",
   "metadata": {},
   "outputs": [],
   "source": [
    "with open('/root/social_computing_group/community_detection/louvain_communities_enhanced.json', 'w') as f:\n",
    "    json.dump(final_partition, f)"
   ]
  },
  {
   "cell_type": "code",
   "execution_count": 18,
   "id": "49d437c5",
   "metadata": {},
   "outputs": [
    {
     "name": "stdout",
     "output_type": "stream",
     "text": [
      "正在计算布局...\n",
      "大规模图可视化结果已保存至 /root/social_computing_group/community_detection/enhanced_louvain_visualization.png\n"
     ]
    }
   ],
   "source": [
    "output_path = '/root/social_computing_group/community_detection/enhanced_louvain_visualization.png'\n",
    "visualize_large_graph(nx_graph, final_partition, nmi, output_path)"
   ]
  },
  {
   "cell_type": "code",
   "execution_count": 19,
   "id": "782923b2",
   "metadata": {},
   "outputs": [],
   "source": [
    "# 计算指标\n",
    "metrics_df = community_metrics(final_partition, labels)\n",
    "\n",
    "\n",
    "# 排序并保存表格\n",
    "metrics_df.sort_values('Community ID', inplace=True)\n",
    "metrics_df.to_csv('/root/social_computing_group/community_detection/enhanced_louvain_metrics.csv', index=False)"
   ]
  }
 ],
 "metadata": {
  "kernelspec": {
   "display_name": "base",
   "language": "python",
   "name": "python3"
  },
  "language_info": {
   "codemirror_mode": {
    "name": "ipython",
    "version": 3
   },
   "file_extension": ".py",
   "mimetype": "text/x-python",
   "name": "python",
   "nbconvert_exporter": "python",
   "pygments_lexer": "ipython3",
   "version": "3.12.3"
  }
 },
 "nbformat": 4,
 "nbformat_minor": 5
}
